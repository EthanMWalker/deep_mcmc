{
 "cells": [
  {
   "cell_type": "code",
   "execution_count": 1,
   "metadata": {},
   "outputs": [],
   "source": [
    "from sklearn.mixture import GaussianMixture\n",
    "import sklearn.datasets as datasets\n",
    "from sklearn.model_selection import train_test_split\n",
    "\n",
    "import matplotlib.pyplot as plt\n",
    "import numpy as np\n",
    "import scipy.linalg as la\n",
    "from scipy.stats import bernoulli"
   ]
  },
  {
   "cell_type": "code",
   "execution_count": 2,
   "metadata": {},
   "outputs": [],
   "source": [
    "data = datasets.load_digits()\n",
    "X = data['data']\n",
    "y = data['target']\n",
    "X_train, X_test, y_train, y_test = train_test_split(X, y, test_size=.2)\n",
    "\n",
    "gmm = GaussianMixture(10, max_iter=500000)\n",
    "gmm = gmm.fit(X_train)\n",
    "# samples = gmm.sample(10)\n",
    "\n",
    "# for i in range(10):\n",
    "#   plt.imshow(samples[0][i].reshape((8,8)), cmap='gray')\n",
    "#   plt.title(samples[1][i])\n",
    "#   plt.show()\n",
    "\n",
    "# for i in range(10):\n",
    "#   digit = gmm.means_[i]\n",
    "#   plt.imshow(digit.reshape((8,8)), cmap='gray')\n",
    "#   plt.title(f'{i}')\n",
    "#   plt.show()"
   ]
  },
  {
   "cell_type": "code",
   "execution_count": 3,
   "metadata": {},
   "outputs": [],
   "source": [
    "def acceptance(x, y, mu, sigma):\n",
    "  p = min(1, np.exp(-0.5 * (np.dot(x - mu, la.solve(\n",
    "    sigma, x - mu)) - np.dot(y - mu, la.solve(sigma, y - mu)))))\n",
    "  return bernoulli.rvs(p)\n",
    "\n",
    "\n",
    "def nextState(x, mu, sigma):\n",
    "  K = len(x)\n",
    "  y = np.random.multivariate_normal(x, np.eye(K))\n",
    "  accept = acceptance(y, x, mu, sigma)\n",
    "  if accept:\n",
    "    return y\n",
    "  else:\n",
    "    return x\n",
    "\n",
    "\n",
    "def lmvnorm(x, mu, sigma):\n",
    "  return -0.5 * (np.dot(x - mu, la.solve(sigma, x - mu)) - len(x) * np.log(2 * np.pi) - np.log(la.det(sigma)))\n",
    "\n",
    "\n",
    "def metropolis(x, mu, sigma, n_samples=1000):\n",
    "  logprobs = np.zeros(n_samples)\n",
    "  x_samples = np.zeros((n_samples, len(x)))\n",
    "  for i in range(n_samples):\n",
    "    logprobs[i] = lmvnorm(x, mu, sigma)\n",
    "    x = nextState(x, mu, sigma)\n",
    "    x_samples[i, :] = x.copy()\n",
    "  return x_samples, logprobs\n"
   ]
  },
  {
   "cell_type": "code",
   "execution_count": null,
   "metadata": {},
   "outputs": [],
   "source": [
    "metropolis()"
   ]
  }
 ],
 "metadata": {
  "interpreter": {
   "hash": "916dbcbb3f70747c44a77c7bcd40155683ae19c65e1c03b4aa3499c5328201f1"
  },
  "kernelspec": {
   "display_name": "Python 3.8.10 64-bit",
   "language": "python",
   "name": "python3"
  },
  "language_info": {
   "codemirror_mode": {
    "name": "ipython",
    "version": 3
   },
   "file_extension": ".py",
   "mimetype": "text/x-python",
   "name": "python",
   "nbconvert_exporter": "python",
   "pygments_lexer": "ipython3",
   "version": "3.8.10"
  },
  "orig_nbformat": 4
 },
 "nbformat": 4,
 "nbformat_minor": 2
}
